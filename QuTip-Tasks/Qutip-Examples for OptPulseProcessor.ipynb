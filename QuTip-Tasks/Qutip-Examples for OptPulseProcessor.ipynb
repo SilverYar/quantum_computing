{
 "cells": [
  {
   "cell_type": "markdown",
   "metadata": {},
   "source": [
    "## Examples for OptPulseProcessor / Примеры для OptPulseProcessor"
   ]
  },
  {
   "cell_type": "code",
   "execution_count": 2,
   "metadata": {},
   "outputs": [],
   "source": [
    "from numpy import pi\n",
    "from qutip.qip.device import OptPulseProcessor\n",
    "from qutip.qip.circuit import QubitCircuit\n",
    "from qutip.qip.operations import expand_operator, toffoli\n",
    "from qutip.operators import sigmaz, sigmax, identity\n",
    "from qutip.states import basis\n",
    "from qutip.metrics import fidelity\n",
    "from qutip.tensor import tensor"
   ]
  },
  {
   "cell_type": "markdown",
   "metadata": {},
   "source": [
    "The qutip.OptPulseProcessor is a noisy quantum device simulator integrated with the optimal pulse algorithm from the qutip.control module. It is a subclass of qutip.Processor and is equipped with a method to find the optimal pulse sequence (hence the name OptPulseProcessor) for a qutip.QubitCircuit or a list of qutip.Qobj. For the user guide of qutip.Processor, please refer to the introductory notebook (https://nbviewer.jupyter.org/github/qutip/qutip-notebooks/blob/master/examples/qip-noisy-device-simulator.ipynb).\n",
    "\n",
    "Qutip.OptPulseProcessor - это симулятор квантового устройства с шумом, интегрированный с оптимальным алгоритмом импульсов из модуля qutip.control. Он является подклассом qutip.Processor и оснащен методом поиска оптимальной последовательности импульсов (отсюда и название OptPulseProcessor) для qutip.QubitCircuit или списка qutip.Qobj. Руководство пользователя qutip.Processor можно найти в https://nbviewer.jupyter.org/github/qutip/qutip-notebooks/blob/master/examples/qip-noisy-device-simulator.ipynb\n",
    "\n"
   ]
  },
  {
   "cell_type": "markdown",
   "metadata": {},
   "source": [
    "## Single-qubit gate / Однокубитовый вентиль"
   ]
  },
  {
   "cell_type": "markdown",
   "metadata": {},
   "source": [
    "Like in the parent class Processor, we need to first define the available Hamiltonians in the system. The OptPulseProcessor has one more parameter, the drift Hamiltonian, which has no time-dependent coefficients and thus won't be optimized.\n",
    "\n",
    "Как и в родительском классе Processor, нам нужно сначала определить доступные гамильтонианы в системе. У OptPulseProcessor есть еще один параметр, гамильтониан дрейфа, который не имеет зависящих от времени коэффициентов и поэтому не будет оптимизирован."
   ]
  },
  {
   "cell_type": "code",
   "execution_count": 3,
   "metadata": {},
   "outputs": [],
   "source": [
    "N = 1\n",
    "# Drift Hamiltonian\n",
    "H_d = sigmaz()\n",
    "# The (single) control Hamiltonian\n",
    "H_c = sigmax()\n",
    "processor = OptPulseProcessor(N, drift=H_d)\n",
    "processor.add_control(H_c, 0)\n"
   ]
  },
  {
   "cell_type": "markdown",
   "metadata": {},
   "source": [
    "The method load_circuit calls qutip.control.optimize_pulse_unitary and returns the pulse coefficients.\n",
    "\n",
    "Метод load_circuit вызывает qutip.control.optimize_pulse_unitary и возвращает коэффициенты импульса."
   ]
  },
  {
   "cell_type": "code",
   "execution_count": 4,
   "metadata": {},
   "outputs": [
    {
     "name": "stdout",
     "output_type": "stream",
     "text": [
      "********** Gate 0 **********\n",
      "Final fidelity error 9.77051772821369e-12\n",
      "Final gradient normal 1.5634618862956533e-05\n",
      "Terminated due to Goal achieved\n",
      "Number of iterations 11\n"
     ]
    },
    {
     "data": {
      "image/png": "[encoded data removed]",
      "text/plain": [
       "<Figure size 432x288 with 1 Axes>"
      ]
     },
     "metadata": {
      "needs_background": "light"
     },
     "output_type": "display_data"
    }
   ],
   "source": [
    "qc = QubitCircuit(N)\n",
    "qc.add_gate(\"SNOT\", 0)\n",
    "\n",
    "# This method calls optimize_pulse_unitary\n",
    "tlist, coeffs = processor.load_circuit(qc, min_grad=1e-20, init_pulse_type='RND',\n",
    "                                       num_tslots=6, evo_time=1, verbose=True)\n",
    "processor.plot_pulses(title=\"Control pulse for the Hadamard gate\");"
   ]
  },
  {
   "cell_type": "markdown",
   "metadata": {},
   "source": [
    "Like the Processor, the simulation is calculated with a QuTiP solver. The method run_state calls mesolve and returns the result. One can also add noise to observe the change in the fidelity, e.g. the t1 decoherence time.\n",
    "\n",
    "Как и в случае с процессором, моделирование рассчитывается с помощью решателя QuTiP. Метод run_state вызывает mesolve и возвращает результат. Также можно добавить шум, чтобы наблюдать изменение верности, например время декогеренции t1."
   ]
  },
  {
   "cell_type": "code",
   "execution_count": 5,
   "metadata": {},
   "outputs": [
    {
     "name": "stdout",
     "output_type": "stream",
     "text": [
      "Fidelity: 1.0000000074365047\n",
      "Fidelity with qubit relaxation: 0.993364398820646\n"
     ]
    }
   ],
   "source": [
    "rho0 = basis(2,1)\n",
    "plus = (basis(2,0) + basis(2,1)).unit()\n",
    "minus = (basis(2,0) - basis(2,1)).unit()\n",
    "result = processor.run_state(init_state=rho0)\n",
    "print(\"Fidelity:\", fidelity(result.states[-1], minus))\n",
    "\n",
    "# add noise\n",
    "processor.t1 = 40.0\n",
    "result = processor.run_state(init_state=rho0)\n",
    "print(\"Fidelity with qubit relaxation:\", fidelity(result.states[-1], minus))"
   ]
  },
  {
   "cell_type": "markdown",
   "metadata": {},
   "source": [
    "## Multi-qubit gate / Многокубитовый вентиль"
   ]
  },
  {
   "cell_type": "markdown",
   "metadata": {},
   "source": [
    "In the following example, we use OptPulseProcessor to find the optimal control pulse of a multi-qubit circuit. For simplicity, the circuit contains only one Toffoli gate.\n",
    "\n",
    "В следующем примере мы используем OptPulseProcessor, чтобы найти оптимальный управляющий импульс многокубитовой схемы. Для простоты схема содержит только один вентиль Тоффоли."
   ]
  },
  {
   "cell_type": "code",
   "execution_count": 7,
   "metadata": {},
   "outputs": [
    {
     "data": {
      "text/latex": [
       "Quantum object: dims = [[2, 2, 2], [2, 2, 2]], shape = (8, 8), type = oper, isherm = True\\begin{equation*}\\left(\\begin{array}{*{11}c}1.0 & 0.0 & 0.0 & 0.0 & 0.0 & 0.0 & 0.0 & 0.0\\\\0.0 & 1.0 & 0.0 & 0.0 & 0.0 & 0.0 & 0.0 & 0.0\\\\0.0 & 0.0 & 1.0 & 0.0 & 0.0 & 0.0 & 0.0 & 0.0\\\\0.0 & 0.0 & 0.0 & 1.0 & 0.0 & 0.0 & 0.0 & 0.0\\\\0.0 & 0.0 & 0.0 & 0.0 & 1.0 & 0.0 & 0.0 & 0.0\\\\0.0 & 0.0 & 0.0 & 0.0 & 0.0 & 1.0 & 0.0 & 0.0\\\\0.0 & 0.0 & 0.0 & 0.0 & 0.0 & 0.0 & 0.0 & 1.0\\\\0.0 & 0.0 & 0.0 & 0.0 & 0.0 & 0.0 & 1.0 & 0.0\\\\\\end{array}\\right)\\end{equation*}"
      ],
      "text/plain": [
       "Quantum object: dims = [[2, 2, 2], [2, 2, 2]], shape = (8, 8), type = oper, isherm = True\n",
       "Qobj data =\n",
       "[[1. 0. 0. 0. 0. 0. 0. 0.]\n",
       " [0. 1. 0. 0. 0. 0. 0. 0.]\n",
       " [0. 0. 1. 0. 0. 0. 0. 0.]\n",
       " [0. 0. 0. 1. 0. 0. 0. 0.]\n",
       " [0. 0. 0. 0. 1. 0. 0. 0.]\n",
       " [0. 0. 0. 0. 0. 1. 0. 0.]\n",
       " [0. 0. 0. 0. 0. 0. 0. 1.]\n",
       " [0. 0. 0. 0. 0. 0. 1. 0.]]"
      ]
     },
     "execution_count": 7,
     "metadata": {},
     "output_type": "execute_result"
    }
   ],
   "source": [
    "toffoli()"
   ]
  },
  {
   "cell_type": "markdown",
   "metadata": {},
   "source": [
    "We have single-qubit control σx and σz , with the argument cyclic_permutation=True, it creates 3 operators each targeted on one qubit.\n",
    "\n",
    "У нас есть однокубитное управление σx и σz с аргументом cyclic_permutation = True он создает 3 оператора, каждый нацеленный на один кубит."
   ]
  },
  {
   "cell_type": "code",
   "execution_count": 8,
   "metadata": {},
   "outputs": [],
   "source": [
    "N = 3\n",
    "H_d = tensor([identity(2)] * 3)\n",
    "test_processor = OptPulseProcessor(N, H_d, [])\n",
    "test_processor.add_control(sigmaz(), cyclic_permutation=True)\n",
    "test_processor.add_control(sigmax(), cyclic_permutation=True)\n"
   ]
  },
  {
   "cell_type": "markdown",
   "metadata": {},
   "source": [
    "The interaction is generated by σxσx between the qubit 0 & 1 and qubit 1 & 2. expand_operator can be used to expand the operator to a larger dimension with given target qubits.\n",
    "\n",
    "Взаимодействие порождается σxσx\n",
    " между кубитами 0 и 1 и кубитами 1 и 2. expand_operator можно использовать для расширения оператора до большего измерения с заданными целевыми кубитами."
   ]
  },
  {
   "cell_type": "code",
   "execution_count": 9,
   "metadata": {},
   "outputs": [],
   "source": [
    "sxsx = tensor([sigmax(),sigmax()])\n",
    "sxsx01 = expand_operator(sxsx, N=3, targets=[0,1])\n",
    "sxsx12 = expand_operator(sxsx, N=3, targets=[1,2])\n",
    "test_processor.add_control(sxsx01)\n",
    "test_processor.add_control(sxsx12)"
   ]
  },
  {
   "cell_type": "markdown",
   "metadata": {},
   "source": [
    "Use the above defined control Hamiltonians, we now find the optimal pulse for the Toffoli gate with 6 time slots. Instead of a QubitCircuit, a list of operators can also be given as an input. Different color in the figure represents different control pulses.\n",
    "\n",
    "\n",
    "Используя определенные выше гамильтонианы управления, мы теперь находим оптимальный импульс для ворот Тоффоли с 6 временными интервалами. Вместо QubitCircuit в качестве входных данных также может быть указан список операторов. Разным цветом на рисунке представлены разные управляющие импульсы."
   ]
  },
  {
   "cell_type": "code",
   "execution_count": 10,
   "metadata": {},
   "outputs": [
    {
     "name": "stdout",
     "output_type": "stream",
     "text": [
      "********** Gate 0 **********\n",
      "Final fidelity error 0.0761217257501332\n",
      "Final gradient normal 7.002339040021171e-06\n",
      "Terminated due to function converged\n",
      "Number of iterations 458\n"
     ]
    },
    {
     "data": {
      "image/png": "[encoded data removed]",
      "text/plain": [
       "<Figure size 432x288 with 1 Axes>"
      ]
     },
     "metadata": {
      "needs_background": "light"
     },
     "output_type": "display_data"
    }
   ],
   "source": [
    "test_processor.load_circuit([toffoli()], num_tslots=6, evo_time=1, verbose=True);\n",
    "\n",
    "test_processor.plot_pulses(title=\"Contorl pulse for toffoli gate\");"
   ]
  },
  {
   "cell_type": "markdown",
   "metadata": {},
   "source": [
    "## Merging a quantum circuit / Слияние квантовой схемы"
   ]
  },
  {
   "cell_type": "markdown",
   "metadata": {},
   "source": [
    "If there are multiple gates in the circuit, we can choose if we want to first merge them and then find the pulse for the merged unitary.\n",
    "\n",
    "Если в схеме несколько вентилей, мы можем выбрать, хотим ли мы сначала объединить их, а затем найти импульс для объединенной унитарной системы."
   ]
  },
  {
   "cell_type": "code",
   "execution_count": 11,
   "metadata": {},
   "outputs": [],
   "source": [
    "qc = QubitCircuit(N=3)\n",
    "qc.add_gate(\"CNOT\", controls=0, targets=2)\n",
    "qc.add_gate(\"RX\", targets=2, arg_value=pi/4)\n",
    "qc.add_gate(\"RY\", targets=1, arg_value=pi/8)"
   ]
  },
  {
   "cell_type": "code",
   "execution_count": 12,
   "metadata": {},
   "outputs": [
    {
     "name": "stdout",
     "output_type": "stream",
     "text": [
      "********** Gate 0 **********\n",
      "Final fidelity error 9.007477753675275e-07\n",
      "Final gradient normal 7.954144790388377e-05\n",
      "Terminated due to function converged\n",
      "Number of iterations 219\n",
      "********** Gate 1 **********\n",
      "Final fidelity error 1.1190881554767884e-10\n",
      "Final gradient normal 1.0258652673719492e-05\n",
      "Terminated due to function converged\n",
      "Number of iterations 10\n",
      "********** Gate 2 **********\n",
      "Final fidelity error 3.280761218249495e-10\n",
      "Final gradient normal 1.1804873264678057e-05\n",
      "Terminated due to function converged\n",
      "Number of iterations 28\n"
     ]
    },
    {
     "data": {
      "image/png": "[encoded data removed]",
      "text/plain": [
       "<Figure size 432x288 with 1 Axes>"
      ]
     },
     "metadata": {
      "needs_background": "light"
     },
     "output_type": "display_data"
    }
   ],
   "source": [
    "setting_args = {\"CNOT\": {\"num_tslots\": 20, \"evo_time\": 3},\n",
    "                \"RX\": {\"num_tslots\": 2, \"evo_time\": 1},\n",
    "                \"RY\": {\"num_tslots\": 2, \"evo_time\": 1}}\n",
    "\n",
    "test_processor.load_circuit(qc, merge_gates=False, setting_args=setting_args, verbose=True);\n",
    "test_processor.plot_pulses(title=\"Control pulse for a each gate in the circuit\");"
   ]
  },
  {
   "cell_type": "markdown",
   "metadata": {},
   "source": [
    "In the above figure, the pulses from t=0 to t=3 are for the CNOT gate while the rest for are the two single qubits gates. The difference in the frequency of change is merely a result of our choice of evo_time. Here we can see that the three gates are carried out in sequence.\n",
    "\n",
    "На приведенном выше рисунке импульсы от t = 0\n",
    " к t = 3\n",
    " предназначены для ворот CNOT, а остальные - для двух отдельных кубитов. Разница в частоте изменений - это просто результат нашего выбора evo_time. Здесь мы видим, что три ворот выполняются последовательно."
   ]
  },
  {
   "cell_type": "code",
   "execution_count": 13,
   "metadata": {},
   "outputs": [
    {
     "name": "stdout",
     "output_type": "stream",
     "text": [
      "********** Gate 0 **********\n",
      "Final fidelity error 5.724183691491191e-07\n",
      "Final gradient normal 8.696327545561616e-05\n",
      "Terminated due to function converged\n",
      "Number of iterations 291\n"
     ]
    },
    {
     "data": {
      "image/png": "[encoded data removed]",
      "text/plain": [
       "<Figure size 432x288 with 1 Axes>"
      ]
     },
     "metadata": {
      "needs_background": "light"
     },
     "output_type": "display_data"
    }
   ],
   "source": [
    "qc = QubitCircuit(N=3)\n",
    "qc.add_gate(\"CNOT\", controls=0, targets=2)\n",
    "qc.add_gate(\"RX\", targets=2, arg_value=pi/4)\n",
    "qc.add_gate(\"RY\", targets=1, arg_value=pi/8)\n",
    "test_processor.load_circuit(qc, merge_gates=True, verbose=True, num_tslots=20, evo_time=5);\n",
    "test_processor.plot_pulses(title=\"Control pulse for a merged unitary evolution\");"
   ]
  },
  {
   "cell_type": "markdown",
   "metadata": {},
   "source": [
    "In this figure there are no different stages, the three gates are first merged and then the algorithm finds the optimal pulse for the resulting unitary evolution.\n",
    "\n",
    "\n",
    "На этом рисунке нет разных этапов, сначала объединяются три логических элемента, а затем алгоритм находит оптимальный импульс для результирующей унитарной эволюции."
   ]
  },
  {
   "cell_type": "code",
   "execution_count": 14,
   "metadata": {},
   "outputs": [
    {
     "data": {
      "text/html": [
       "<table><tr><th>Software</th><th>Version</th></tr><tr><td>QuTiP</td><td>4.5.2</td></tr><tr><td>Numpy</td><td>1.18.5</td></tr><tr><td>SciPy</td><td>1.5.0</td></tr><tr><td>matplotlib</td><td>3.2.2</td></tr><tr><td>Cython</td><td>0.29.21</td></tr><tr><td>Number of CPUs</td><td>6</td></tr><tr><td>BLAS Info</td><td>INTEL MKL</td></tr><tr><td>IPython</td><td>7.16.1</td></tr><tr><td>Python</td><td>3.8.3 (default, Jul  2 2020, 11:26:31) \n",
       "[Clang 10.0.0 ]</td></tr><tr><td>OS</td><td>posix [darwin]</td></tr><tr><td colspan='2'>Sat Oct 10 02:15:25 2020 MSK</td></tr></table>"
      ],
      "text/plain": [
       "<IPython.core.display.HTML object>"
      ]
     },
     "execution_count": 14,
     "metadata": {},
     "output_type": "execute_result"
    }
   ],
   "source": [
    "from qutip.ipynbtools import version_table\n",
    "version_table()"
   ]
  },
  {
   "cell_type": "code",
   "execution_count": null,
   "metadata": {},
   "outputs": [],
   "source": []
  }
 ],
 "metadata": {
  "kernelspec": {
   "display_name": "Python 3",
   "language": "python",
   "name": "python3"
  },
  "language_info": {
   "codemirror_mode": {
    "name": "ipython",
    "version": 3
   },
   "file_extension": ".py",
   "mimetype": "text/x-python",
   "name": "python",
   "nbconvert_exporter": "python",
   "pygments_lexer": "ipython3",
   "version": "3.8.3"
  }
 },
 "nbformat": 4,
 "nbformat_minor": 4
}
